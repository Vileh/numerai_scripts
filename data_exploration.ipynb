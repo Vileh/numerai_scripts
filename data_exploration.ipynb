{
 "cells": [
  {
   "cell_type": "code",
   "execution_count": 1,
   "metadata": {},
   "outputs": [
    {
     "name": "stdout",
     "output_type": "stream",
     "text": [
      "Python 3.9.16\n"
     ]
    }
   ],
   "source": [
    "!python --version"
   ]
  },
  {
   "cell_type": "code",
   "execution_count": 2,
   "metadata": {},
   "outputs": [
    {
     "name": "stdout",
     "output_type": "stream",
     "text": [
      "Note: you may need to restart the kernel to use updated packages.\n"
     ]
    }
   ],
   "source": [
    "# Install dependencies\n",
    "%pip install -q numerapi pandas lightgbm cloudpickle pyarrow scikit-learn scipy==1.10.1"
   ]
  },
  {
   "cell_type": "code",
   "execution_count": 3,
   "metadata": {},
   "outputs": [],
   "source": [
    "from numerapi import NumerAPI\n",
    "import pandas as pd\n",
    "import json\n",
    "napi = NumerAPI()\n",
    "\n",
    "# use one of the latest data versions\n",
    "DATA_VERSION = \"v4.3\""
   ]
  },
  {
   "cell_type": "code",
   "execution_count": 4,
   "metadata": {},
   "outputs": [
    {
     "name": "stderr",
     "output_type": "stream",
     "text": [
      "2024-02-17 18:25:39,199 INFO numerapi.utils: target file already exists\n",
      "2024-02-17 18:25:39,199 INFO numerapi.utils: download complete\n",
      "2024-02-17 18:25:40,950 INFO numerapi.utils: target file already exists\n",
      "2024-02-17 18:25:40,950 INFO numerapi.utils: starting download\n",
      "v4.3/validation_int8.parquet: 4.98GB [06:05, 13.6MB/s]                            \n",
      "2024-02-17 18:31:48,378 INFO numerapi.utils: target file already exists\n",
      "2024-02-17 18:31:48,378 INFO numerapi.utils: starting download\n",
      "v4.3/live_int8.parquet: 13.2MB [00:11, 1.16MB/s]                   \n",
      "2024-02-17 18:32:01,523 INFO numerapi.utils: target file already exists\n",
      "2024-02-17 18:32:01,523 INFO numerapi.utils: starting download\n",
      "v4.3/live_example_preds.parquet: 259kB [00:01, 226kB/s]                           \n",
      "2024-02-17 18:32:04,396 INFO numerapi.utils: target file already exists\n",
      "2024-02-17 18:32:04,398 INFO numerapi.utils: starting download\n",
      "v4.3/validation_example_preds.parquet: 126MB [00:23, 5.41MB/s]                            \n",
      "2024-02-17 18:32:34,707 INFO numerapi.utils: target file already exists\n",
      "2024-02-17 18:32:34,707 INFO numerapi.utils: download complete\n",
      "2024-02-17 18:32:41,901 INFO numerapi.utils: target file already exists\n",
      "2024-02-17 18:32:41,901 INFO numerapi.utils: starting download\n",
      "v4.3/meta_model.parquet: 50.6MB [00:04, 10.5MB/s]                           \n",
      "2024-02-17 18:32:50,544 INFO numerapi.utils: target file already exists\n",
      "2024-02-17 18:32:50,544 INFO numerapi.utils: starting download\n",
      "v4.3/live_benchmark_models.parquet: 3.62MB [00:01, 2.36MB/s]                   \n",
      "2024-02-17 18:32:54,610 INFO numerapi.utils: target file already exists\n",
      "2024-02-17 18:32:54,611 INFO numerapi.utils: starting download\n",
      "v4.3/validation_benchmark_models.parquet: 1.63GB [01:46, 15.4MB/s]                          \n",
      "2024-02-17 18:34:42,892 INFO numerapi.utils: target file already exists\n",
      "2024-02-17 18:34:42,892 INFO numerapi.utils: download complete\n"
     ]
    },
    {
     "data": {
      "text/plain": [
       "'v4.3/train_benchmark_models.parquet'"
      ]
     },
     "execution_count": 4,
     "metadata": {},
     "output_type": "execute_result"
    }
   ],
   "source": [
    "napi.download_dataset(\"v4.3/train_int8.parquet\", \"v4.3/train_int8.parquet\")\n",
    "napi.download_dataset(\"v4.3/validation_int8.parquet\", \"v4.3/validation_int8.parquet\")\n",
    "napi.download_dataset(\"v4.3/live_int8.parquet\", \"v4.3/live_int8.parquet\")\n",
    "napi.download_dataset(\"v4.3/live_example_preds.parquet\", \"v4.3/live_example_preds.parquet\")\n",
    "napi.download_dataset(\"v4.3/validation_example_preds.parquet\", \"v4.3/validation_example_preds.parquet\")\n",
    "napi.download_dataset(\"v4.3/features.json\", \"v4.3/features.json\")\n",
    "napi.download_dataset(\"v4.3/meta_model.parquet\", \"v4.3/meta_model.parquet\")\n",
    "napi.download_dataset(\"v4.3/live_benchmark_models.parquet\", \"v4.3/live_benchmark_models.parquet\")\n",
    "napi.download_dataset(\"v4.3/validation_benchmark_models.parquet\", \"v4.3/validation_benchmark_models.parquet\")\n",
    "napi.download_dataset(\"v4.3/train_benchmark_models.parquet\", \"v4.3/train_benchmark_models.parquet\")"
   ]
  },
  {
   "cell_type": "code",
   "execution_count": 5,
   "metadata": {},
   "outputs": [],
   "source": [
    "# Data inspection\n",
    "feature_metadata = json.load(open(f\"{DATA_VERSION}/features.json\"))\n",
    "features = feature_metadata[\"feature_sets\"][\"all\"] # use \"all\" for better performance. Requires more RAM.\n",
    "train = pd.read_parquet(f\"{DATA_VERSION}/train_int8.parquet\", columns=[\"era\"]+features+[\"target\"])"
   ]
  },
  {
   "cell_type": "code",
   "execution_count": 6,
   "metadata": {},
   "outputs": [],
   "source": [
    "train[\"era\"] = train[\"era\"].astype(\"int32\")"
   ]
  },
  {
   "cell_type": "markdown",
   "metadata": {},
   "source": [
    "### Per-era Correlations"
   ]
  },
  {
   "cell_type": "code",
   "execution_count": 7,
   "metadata": {},
   "outputs": [],
   "source": [
    "target = \"target\"\n",
    "\n",
    "# Create an empty DataFrame to store the results\n",
    "correlations = []\n",
    "\n",
    "# Group the data by era\n",
    "grouped = train.groupby('era')\n",
    "\n",
    "# For each era, calculate the correlation of each feature with the target\n",
    "for name, group in grouped:\n",
    "    corr = group.corr()['target'].drop('target')  # Calculate correlations and drop the target-target correlation\n",
    "    corr.name = name  # Name the Series with the era name\n",
    "    correlations.append(corr)\n",
    "\n",
    "# Concatenate all Series into a DataFrame and transpose it\n",
    "correlations = pd.concat(correlations, axis=1).T\n",
    "\n",
    "# Print the DataFrame\n",
    "print(correlations)"
   ]
  },
  {
   "cell_type": "code",
   "execution_count": null,
   "metadata": {},
   "outputs": [
    {
     "data": {
      "text/plain": [
       "14"
      ]
     },
     "execution_count": 52,
     "metadata": {},
     "output_type": "execute_result"
    }
   ],
   "source": [
    "correlations.to_csv(\"correlations.csv\")"
   ]
  },
  {
   "cell_type": "code",
   "execution_count": 29,
   "metadata": {},
   "outputs": [],
   "source": [
    "import matplotlib.pyplot as plt\n",
    "\n",
    "keys = list(correlations.keys())\n",
    "\n",
    "cumulative_corr = [sum(correlations[keys[1]][:i]) for i in range(len(correlations[keys[1]]))]"
   ]
  },
  {
   "cell_type": "code",
   "execution_count": 33,
   "metadata": {},
   "outputs": [
    {
     "data": {
      "text/plain": [
       "nan"
      ]
     },
     "execution_count": 33,
     "metadata": {},
     "output_type": "execute_result"
    }
   ],
   "source": [
    "correlations[keys[1]][0]"
   ]
  },
  {
   "cell_type": "code",
   "execution_count": 36,
   "metadata": {},
   "outputs": [
    {
     "data": {
      "text/plain": [
       "[<matplotlib.lines.Line2D at 0x1f07c5f0d30>]"
      ]
     },
     "execution_count": 36,
     "metadata": {},
     "output_type": "execute_result"
    },
    {
     "data": {
      "image/png": "[encoded data removed]",
      "text/plain": [
       "<Figure size 640x480 with 1 Axes>"
      ]
     },
     "metadata": {},
     "output_type": "display_data"
    }
   ],
   "source": [
    "import numpy as np\n",
    "\n",
    "plt.plot([0 if x is np.nan else x for x in cumulative_corr])"
   ]
  },
  {
   "cell_type": "code",
   "execution_count": 41,
   "metadata": {},
   "outputs": [
    {
     "ename": "NameError",
     "evalue": "name 'nan' is not defined",
     "output_type": "error",
     "traceback": [
      "\u001b[1;31m---------------------------------------------------------------------------\u001b[0m",
      "\u001b[1;31mNameError\u001b[0m                                 Traceback (most recent call last)",
      "Cell \u001b[1;32mIn[41], line 1\u001b[0m\n\u001b[1;32m----> 1\u001b[0m correlations[keys[\u001b[38;5;241m1\u001b[39m]][\u001b[38;5;241m0\u001b[39m] \u001b[38;5;241m==\u001b[39m \u001b[43mnan\u001b[49m\n",
      "\u001b[1;31mNameError\u001b[0m: name 'nan' is not defined"
     ]
    }
   ],
   "source": [
    "correlations[keys[1]][0] == nan"
   ]
  }
 ],
 "metadata": {
  "kernelspec": {
   "display_name": "tf",
   "language": "python",
   "name": "python3"
  },
  "language_info": {
   "codemirror_mode": {
    "name": "ipython",
    "version": 3
   },
   "file_extension": ".py",
   "mimetype": "text/x-python",
   "name": "python",
   "nbconvert_exporter": "python",
   "pygments_lexer": "ipython3",
   "version": "3.9.16"
  }
 },
 "nbformat": 4,
 "nbformat_minor": 2
}
